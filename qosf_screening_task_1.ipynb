{
  "nbformat": 4,
  "nbformat_minor": 0,
  "metadata": {
    "orig_nbformat": 2,
    "kernelspec": {
      "name": "python3",
      "display_name": "Python 3"
    },
    "colab": {
      "name": "qosf_screening_task_1.ipynb",
      "provenance": [],
      "collapsed_sections": []
    },
    "accelerator": "GPU"
  },
  "cells": [
    {
      "cell_type": "code",
      "metadata": {
        "id": "PQ8lBoUTVxt9",
        "colab_type": "code",
        "colab": {}
      },
      "source": [
        "!nvidia-smi"
      ],
      "execution_count": null,
      "outputs": []
    },
    {
      "cell_type": "code",
      "metadata": {
        "id": "DPDkcl_lVet9",
        "colab_type": "code",
        "colab": {}
      },
      "source": [
        "!pip install qiskit[visualization]\n",
        "!pip install qiskit-aer-gpu\n",
        "!pip install git+https://github.com/qiskit-community/qiskit-textbook.git#subdirectory=qiskit-textbook-src"
      ],
      "execution_count": null,
      "outputs": []
    },
    {
      "cell_type": "markdown",
      "metadata": {
        "id": "KqFxq-LpHBlo",
        "colab_type": "text"
      },
      "source": [
        "### Task 1 \n"
      ]
    },
    {
      "cell_type": "code",
      "metadata": {
        "id": "B3334lC_HBls",
        "colab_type": "code",
        "tags": [],
        "colab": {}
      },
      "source": [
        "import numpy as np\n",
        "\n",
        "from qiskit import QuantumCircuit, Aer, execute, QuantumRegister \n",
        "from qiskit.circuit import ParameterVector, Parameter\n",
        "from qiskit.compiler import transpile\n",
        "from qiskit_textbook.tools import array_to_latex"
      ],
      "execution_count": 28,
      "outputs": []
    },
    {
      "cell_type": "markdown",
      "metadata": {
        "id": "cKwMTSCQlCUj",
        "colab_type": "text"
      },
      "source": [
        "We plan to implement the following circuit diagram. Where the combination of 1 yellow + 1 green unitary gate represents a layer. \n",
        "\n",
        "\n",
        "![img1.jpg](data:image/jpeg;base64,/9j/4AAQSkZJRgABAQAAAQABAAD/4QBsRXhpZgAASUkqAAgAAAADADEBAgAHAAAAMgAAABICAwACAAAAAgACAGmHBAABAAAAOgAAAAAAAABQaWNhc2EAAAMAAJAHAAQAAAAwMjIwAqAEAAEAAACIAQAAA6AEAAEAAACDAAAAAAAAAP/bAIQAAwICCAgICAgICAgICAgICAgICAgICAgICAgICAgICAgIBwgICAgICAgICAgICggICAgKCgkICAsNCggNBwgJCAEDBAQGBQYKBgYIEQ4JDhASDw4NEA0QDxAODQ0QDQ0NEA0QDRAPDQ0NDg4ODg0NDg4NDQoNDQ4NDQ0NDg0PDQ4N/8AAEQgAgwGIAwEiAAIRAQMRAf/EAB0AAQACAgMBAQAAAAAAAAAAAAAICQYHAgQFAQP/xABXEAAABQEDAwoRCgQDBwUAAAAAAQIDBAUGERIHCBMYISIxMlVWlbK0FDM0NTZBUVJyc3R1gpTT1NUWI0JhYnGRobO1FUOSpVOBsRcmY4Oio/AkJVSFk//EABwBAQEAAgMBAQAAAAAAAAAAAAAHBggBAgUDBP/EAD4RAAECAwQFBwsDBAMAAAAAAAEAAgMEEQYSITFBUXFykQUHMzQ1grETFRYyQ1NUYYGhwSJzslLR4fAUI2L/2gAMAwEAAhEDEQA/ALUwGubaZVUwHZZOpJaGWqQlhKbicdlVWfJgMta/fvIYSXhGfaHXkZWTQuUybSG3abIhdHoJanEphTtxLad0bZ3NnjccNxoiIo8gtfWUCLZwAAIuBiJtr8oVWVUKghmqyYzLEtTDTDMemqIkoQ2Z3uSKfJdPXM9sz+8S0ENLQdcat5xc/TaE2t5PzEjycIstELH3wKjVQrKbOy0KYmiyK0ObdOB+n91+3y3rW/s71SifCg+W9a39neqUT4UOkA179LeWfjH8VTfMsj7hvBd35b1rf2d6pRPhQfLetb+zvVKJ8KHSAPS3ln4x/FPMsj7hvBd35b1rf2d6pRPhQfLetb+zvVKJ8KHSAPS3ln4x/FPMsj7hvBdS2OUyuxocqQiuTDWxGkOoJUWimlSmmlrTiw0va1i7gm0kQIyqdbKj5BL5u4J8IFy5veU5vlCBGdNRS8hwAJx0Ke2mlIMtFhtgsDQQa00oYr7y55yVfjVqpxYtTcjx4z6W2mkRac5cRx23D+ckRHXT1zM9cz+8WDGKsc43shrXliOZxhmNo5mLLyt+E8tdeGIUWtbNxpWS8pAeWuvAVC9DVV2m36e9To/w8NVXabfp71Oj/Dxq4BLvPU9793FRn0i5S+JdxW0dVXabfp71Oj/Dw1Vdpt+nvU6P8PGrgDz1Pe/dxT0i5S+JdxW0dVXabfp71Oj/AA8NVXabfp71Oj/Dxq4A89T3v3cU9IuUviXcVsaq52tp22nVlWXb0IUosUOkdr/68WfwXTUhBntmlJ/iQpptJ1PI8S9yBcpS+lN+LRySFDsvOR5lkQxohdQilVU7Gz8zOQ4pmIhcQRSuhdkzEL6NlOrb7aXjrUxvGZno0RaRgRcq7ARrpbjqtbtmZmJpL2hBCw/UrXpcsY/zg8pTUhLQnysUsJdQkaQr1ZmUgzMZ7YzA4AYVWV/Letb+zvVKJ8KD5b1rf2d6pRPhQ6QCFelvLPxj+KonmWR9w3gu78t61v7O9UonwoPlvWt/Z3qlE+FDpAHpbyz8Y/inmWR9w3gu78t61v7O9UonwoPlvWt/Z3qlE+FDpAHpbyz8Y/inmWR9w3gu/Cyj1lp+HirEp9DlRpsdxl6NSkpW1JnsR3SJcentOJPRunrkaT+stspgEIUO9Oged6N+6wxNohfeb/lGZn5B8Sail7g8gE44UBoptaSVhS0w1sFgaLtaDaf7LC8sloXYdIqktgyS9Fp02SyoyvJLrMZ1xBmXbIlJLWFemqotNv0/6nSPh4n5nE9j1d8z1PmT4qzHpWpnY8r5LyMQtrWtNNKKB205RmpPyP8Ax4pbW9WmmlFtHVV2m36e9To/w8NVXabfp71Oj/Dxq4BgXnqe9+7ipn6RcpfEu4raOqrtNv096nR/h4aqu02/T3qdH+HjVwB56nvfu4p6RcpfEu4raOqrtNv096nR/h4aqu02/T3qdH+HjVwB56nvfu4p6RcpfEu4qT2bVnF1yXXIMKZUVyo0gpJONriwWj+airfbUlyPEYVdeRXkRid94rKzS+yWk+FN5hMFmxCqWemIkxKCJFcXOqcSrXZWajTUiIkZ5c6pxK5AADJ1mCAAAiAAAi0bldsS5PkzW2Nd5grLVBtN6SJa6ZWpk/RGZ9+iPh1+2oh+dbsy+05aGoOtEk6sxTaXEjPGhV5kl6K0bxsuOt6N2VUjSeveSSO+7EQ3W3CQTinSSROLShClfSUls3FIT6BuOn6RhKp6HFINaSUbS8bZmW5XgWjEX14FqK/6zBEpsLRtobNSnMCEoxrO9a8JEWJR9sz2zGAWkyRyn33HkV6rRULO8mI/QGib+pGlhOru+9Y2UAItRf7DZvCau/2v4aI+M0dceVUmXJD0pSJ7pHIkYNM5sGt1omm2/wAhN8Q0tB1xq3nFz9NoSfnK7LbvjwKzKynXDunxC/AAAauKvIAACIAACLGMqfWuo+QS+buCTich03hNXP7X8NEYsqnWyo+QS+buCfCBsZzXdWmN4eCl1r+mh7CtSnkNm8Jq7/a/hor4yxUdces1ZlyQ9LUiWRHIkYNMu+NGPZaJptvW2tohbGYqxzjeyGteWI5nGGeWq6l3goBbbs/vBa+AAEdUCQAAEQAAEXmWn6mkeIe5As9gZDpuBv8A3lrm4Rvb3PNwrEtJ1PI8S9yBcpS+lN+LRySFRsf0cXaFZrA9FG2hauVkNm8Jq7/a/hojPk6ZNEKOk1ms0pUk1q3SsK92oT0XtCCFh+pWvS5YxnnP6pA3z4LZSyPTxN1e8AANblU0AABEAABF5Noqep7oVpDrjCnKnR0E+1g0jSlVWFskY23G8aBIwshs3hNXf7X8NGgXenQPO9G/dYYm0Q2b5suzYn7h/iFJrWdabujxKjVlyyNTGqJWHVWhrDyW6VUVqac/h+B0kw3TwLwQUncd1xmRkeuICi0zOJ7Hq75nqfMnxVmPVtl7Hvfha0W/9h3vwgAAmqkSAAAiAAAiz7N6s+5Kr1MZblSISzOXdIjaLSpup8jc6Vp1v8jE9P8AYbN4TV3+1/DRCXNL7JaT4U3mEwWbELNZbqI2lbB2M7NbvFa+sfktkxXyecrdUmoJJl0PK6B0JmfbPQw2XLy7WzGwwAZes6QAAEQAAEQBrK32VdUB2XiQTiW0UVqM3uTXLq1RkU9tCl6+xN0o/wBxYu6OtOysOtuT2VpQTlJdgOzFFfo106Yk8b6TUd6DYJEh1ZX3XRjK8yWCLawAAIvghpaDrjVvOLn6bQmWIaWg641bzi5+m0JPzldlt3x4FZlZTrh3T4hfgAANXFXkAABEAABFi+VTrZUfIJfN3BPhAgPlU62VHyCXzdwT4QNjOa7q0xvDwUutf00PYVyMVY5xvZDWvLEczjC04xVjnG9kNa8sRzOMM8tV1LvBQC23Z/eC18AAI6oEgAAIgAAIvOtJ1PI8S9yBcpS+lN+LRySFNdpOp5HiXuQLlKX0pvxaOSQqNj+ji7QrNYLoo20Ltr2hBCw/UrXpcsTvXtCCFh+pWvS5YxnnP6pA3z4LZSyPTxN1e8AANblU0AABEAABF13enQPO9G/dYYm0QhK706B53o37rDE2iGzfNj2bE/cP8QpNazrTd0eJWvM4nservmep8yfFWYtMziex6u+Z6nzJ8VZj1LZex734WtFv/Yd78IAAJspEgAAIgAAItsZpfZLSfCm8wmCzYhWTml9ktJ8KbzCYLNiFmst1EbxWwdjOzW7xXIAAZes6QAAEQAAEWkcqNg3KjKnssqInmUWZnM4juSb1Nq82oIbWfcWcck+kR9ocKxZl5lyuT1oSh+sop1LiMOYHMBIQ7HYU+STW2Zaee+64gjUWhRcZmNztxkko1kRY1ESVKu2RpTeaS+5OP8x9eiJVhNSSM0HiSZlfhVhuxJ7msYIvlOgE22hsjUZNoSgjWeJRkksJYlds+6fdGv7TZEESX3JB1SuMG5r6GNU3mWEeLZQVyfu1xsoARai1OTe/No+OZIj2xQSiyakwTz7xIqD5aaU6uRIXsGt0+sTeMxAnL1WkRk2lkOFiSy/Lcu75TcZpSEiYc4MF0eQhwm5uiNA+tR+Vl9mHhky5x0MJ8FkwDWmSqy6INGZKUa1LVBQ7OcdWtxw1G1jeJS1jIMmdk0w4jKLnCdWhC38bq3laZScS9m6NaJmUhwfKUiVuuug3cHZ1I/VkKajmqvCiufdq2lRU45fZZWOKHiUV5GR66kjE8qFXW1GS20o23pkiNCbdTum+iHcLzqftoj6Z1A17nLZSf4PTo0aEpEZ+a+1BjOK3MRpW7f8AQ7o+0jyVFnHQmQz+qI4gDUGirnH5DYa4rpHmmwWuc7Jox+uhbwARistaaI3aSlw6TJTIYXTpX8RWiR0R0QpJGtp99f8AMlaS78hJ0ccp8mmQcxpcSHtvCrbpAqW4ipplXPLFJWaEwHEDI0wNRoOBw1rFsqCyVSqgZHeR0+XcafJ3BJ5Obm3vzaLjmSIV2vkGwVchF0lykvVFgu9U4iQ1MQn7GkbZdFl6doXzm4gGBAjCtQS1wPycK/4Km1qn34kP5AjgaLUp5uTe/No+OZIr4yx0Eotaq0cnpEgm5ZfPSnVyJCv/AE0Y9k+sWxCqHOxlpbrNoXFlelEjEZfdBjKIZradpfKtaMy4BQm2TDEkmsGZeBxWHgMSyf0MmYLZumZrcZJbylqWpWyTiHp2Oo6WmUGRKJSyJa8alrUSlbLDsu8EmjQGwy8B1aGgwz++H3UNjyzIReA+t110YYHOpz+Wor2h8Qsj2jHkWqmqS2lKVGlbzjbCTLbLSqwrUnwG9YYzlVtV0DGaaZUlpx9aGGlq2mk/Tcv7WC/bHaXk3xyxrc3Gg2DM7F9JWQiTLmMZ6zzQbBmT8hsKz4BqakVhhNUiMQnkuoOM70SaXNJjUWI0qc797a/IbZHM3KGXLQTmK4ihGJGIx1LiekTKOaCfWF4VFDmRiMaZV2LzLSXKiyLj1jYe5As9g5uqDbRfWbRdLTtVmT3L/wAfrFVNXWbZzGi3DkRclJd6siwv8pp3/IhdfSz+ab8WjkkKRZOGWMiajQjgq3YiF5OHF1G6QdYI/BwK1crNzb35tFxzJEZ8n0bBCjoxGeBOG9asSlYV7tYnoYq7yzVE27NuE3ech424sXCpaVJkSZGgQpK0fTbxjwOcGWM0yVlwaF0SldVcKrYazEXyT4r6ZNrRbzAYFaGyzUakvRW8R3spaQZuO6RyU5o2mVqXpNJjckDK7OWfbispYZJWBBba1rcUr7SlqGt8WAxjL7Xk/qIH6aVApU54Z5Y7VUmRHONC2mFTj/hekCFkZEZGRke0Ywi38nSvwYH0Zbjrsku+iw0Y1tf8yQtlpf8AwhrbOIynk3OpdG6LKC3NM5FQk6UmVIhNX3NJf/lrlLbU1fcevcXbHoyXJESbfDYw4ua55wJoxlanDEnA0AFSaAZ4fnjzjYLXOdoIGebjTDHLMYqQA4rWSSMzMiIixGahHrIbatl2v1qNT3G10xqPBUhLR4o6ZKkFjW0f33l/kJDrQRlcY/Nyjye6RjCE41q1rsqGjwHUI0EA4r6S0yI7L4GkjOuRIwP0Xl1+mE90K0bjrWlqdHRpGHNC83iqsNOJpxHS1iRRZuTe/No+OZIiVYGZgldAmdxQq9QiYM9oosqoU+Qyn/luaaKgWIENjubqCYMjEZWv/ZUHWHNaQfqDloUutQ+/MMP/AJ8C4KNuXLIKhmiVl4qtX1m3SqkvA7VpC2lYYjqrloPWNOttXbV4gGLTM4k/93675mqfMnxT5lJbJxcFgryW/KK80molaBpJOSNz949W1MHy8SAytPWNdVACfstebaS//Iiy8O9T1yTnQAAk8Fm4DwLQ0ZtbbTNxkSnUEi5aiwpL5xWzT9hBD2ozJISlKSuIiwkJm+GGtBBxOimjWo6+G1rQ4OxJOFNA056V+i1kWuZj6PEkL0stLR7hhonlF3zjqnEtf0YXfzGEWmtk07Uug3n0NRYrZOPpU5o9O6dxpaV9hF93490fsgyD4rroOTbxwrQaMsycKbV6Mtyc+O66Dk2+7CtBow0k4UHzW0h8Wsi2zGA5IKxpkTMCr46JrqY/epa11YU/Y2hm86Cl1Cm1bSyHwmZYy8YwnHLTt+Wv5L883KmVjmA85aaa6HLXjiKrY2bzZkplepkc35UYlnNPSxH1xpCboEgti8gT0LNzb35tFxzJEDsyCoqdr1GUvdkqoIc8NiFLZV+RkLTbxXrNsMOUuHMOIV3sjDMKQuOzDnDgtf2QyOphvk+VSrEkyIy0UyovSWNftmyvWvLtH2hsIAGVrNUAABEAABEAanyk5UnKe9KuwuXJoLEVpV9xyqvU5FOQajTrkWLRmf1JMdep5VHkPVJlRoJyjLp0qSptFzbtNmEvTKNCnHHELYbZmO7q49Ei4jvMwRbgAABFxFemc1Yx6oN1+KyWNxdTQvRYkp0qWHIUhbXptoFhghpX+uNV84ufptCY2/mHS0jCjs9ZsVrhtFSstszDESZew5FhB+tFg9QqCpyCjtsvtsuYSlOPtLZws/TYQh35xa3+lDy8tkMjbgufSRVqQlKvCqUMbFHk2gsnGlEgpLLb5NqStBLTiwqSrEhQ1slZ5sKPDiFpDGuvUGJJ050zGGr5KrRIBcxzQak4f7msYyvJNLcKR9GJU4b7n2W3F9CrX4Den0ox3LNYZ56pUKoNtKkM02RLOQy1g0mF9gkodQhe70bjY2rIpba2lMLSSmlNqaNtWySptSMOFYUuDom0t4luEgsJLdVicUlPfLH6JflQwGscwVc2+3HSyIC05ZEVdQ54r5xZXylQcjQ95uP9uC1Vk0yavqqNQrc5vQvzElFixcSFLiQUd+4j+c9dpV/efdHuZHYpIOqoTtFV5KS//KONgrQRkZGPJoNkIsY1qjsNtG4eJw0Jw6RXfKHEblZ0wyIIuZDWtAH6WtZSgxNcAPmTmSuYcr5Itu6ySTmSc/8AclrTKO1pJNXcLajWfeYX4yT0Q7h9BtgWZp7Qr2ttQkR6VVCSZmpyJNdecXunHFR3NksWEo2iF55uo4iwI131W3Wj6Nx4nFTi1TLsSHXM1PEoKkc8+hOSaraFlvdKlt3FtYsMaEvD9YtwMVY5xvZDWvLEczjDM7SxDClmxG5h4I+ihtr4roMmyK3Nr2kfRahelG+jRIbcbSornTWjBo0Fu0JxbtY4WnpzarzUjTKU3o2mDShRYu++xtXrcGQDx61ZGLINKpDDTppK4jWnFhSJNCmA14JqG/LE47SPFQ2DNNa8E1a3PDE1O0g8CF41QjqbiwlKXpeh3YynXO6XSVOf9dw/K3VnluSqfJS2biIrjpuNp3XzqSShSfAcb/0GWopzZN6IkJ0eDR6O7WwYcOEc4sfAkkXqVcWG89kofoE7ddfHrfqGWbX4HLLTSmtfobyiWOD2+sC4ZUq19QcsiKnLWsOs5ZB1ciXNfvadko0DKCNCnIzHtllrdrbPujt0WAkpRLZubaJhTRmlKU9FrxIVpMCf8H/E+oZS8ySiUlRXkZYTIeTRrGRI6jWxHZaUablLQhKVYQM8XhxeaGl0AAUpSmk8MDrzxXY8pGIHGISDS61oAugUppOrLB2vPFeRaNOJ58y2mqe+R+E+ZqRzcXaUrpTfi0ckhTBV6eluNKuvM3G3VqWrdKVgFz9K6U34tHJIUKysQPY8DIUHjX7lVWxUUPhxAMm3QPuTxJXZMxWZa+yrsiHSHW2zeTBqjE15lG6cbZ6ITsP8Rbbi9KLNF7QghYfqVr0uWMe5xJp8rBl4zMw88C0g7MDnmtg7LQhFiRGH+kfYrovOKmOMkTbrcZp1L61vtrZU843smWkMLwOIQhz51bjo19lrbjExNlIUS+hn4h1B5LmKVBTG6Hfwwkfy1uNjdo8epWRjPKNTrKV3qQtaVY9G4pvcKdR0ta28Gw0ogEjyg2DGa9wIYMg054gmtcyaZ7MKChpMaXL2FtcdZ/Cxi1xYKrSHz6WtFQhX965JRHko5iMWtJZSTGtF/F0RnZjK6QqElDCmtI3KTI0v81xvAhev+JjbFdobchtTTl9xmlRGlWFTbja8SHUL79Dg7yEGRERnf9Y+sHld0BrbgqbjobmnIsc4vzFCDU/7VdXygiE1OkOB+YAH4WksnmSpEGHMeqryUzKvNS9NWh3ClLj0i6NDQv7z/wDLh7+Su5uoViOpJMvE5CkKjMdStsvR8LK2txs16B7TjZE+Ah1JocQS0n2lfZ2SB04FmmmSd0KdGt3ZOPdMeUrDhQpS3ceNaP8AijvE5XMyyL5cm+/DD1RQtpQZgANpTVShFMeGyYhllzIcTnxxKw6x8fHVpMgjubVXbNxSPuqjTYal/wDcf0QsWvEFqXRG4/8ADmWywoTVqNujvUpSqxDUtaz+mtbnb7QnSNgOb2M2NJRXNGAeGjY1jGg/KtMlM7TsLJhgP9NeLnFa8ziex+u+ZqnzJ8VF12mKKbFlGhTjbTchsyQm9TZukkkO4E/eQt1ziex6u+Z6nzJ8VZj0LVxTCdBcBocPoQAfsteLbxzBfAcBoePo4AH7LyoyFOupdUg0obJRNkvdKUr+aMZnVXFOhKUTxXnJShCmnU7HRbrWbGdjoyKM0taXVoSa29yo90nwRPoMw1pJc3ChApoqDr2qVS8yxjiXNwukCmioI06yanSvNYbwTnb9p+OypPhMuPIP9VoYw1Q5UWTU1tMqdXMNo468SUtp2LifnPE3jPpsBKzQo7yUhV6FpHZH1bOlmIbWoDSDl+mlPAV1r7s5RMPENBvNDXA5foLbuVP6RXWsNs5Z8qdEaioxmo8WkdQ0ty5StkpzYtr9AdjJjJJUJq687jd3SVp/mud8MneZJSTIyvIywmOh8nmktqZbTomz20tbHw0+mOHTQitcIlb5cHE8a+OWS6vnRGY7ytb7nBxdr9avjkMFsrMUXfXqUvtPPVV8vBejT1p/0MWsCsXNHSRWlpJeWcwkCzghWbOv8pKF+tzirnZOL5WSL6ZvceK5AADKVmaw2t16poqcKOxAbdpjrMhU2eqShDkV1BF0O2iKezeJ47yNSdZO2Zldr/mqv1MquUboBs6OcE3lVLopOmKdpriilCu0ht6HZ6Uta/Wv1rhmwAiwuk1ypqqsqO7AabpTcZlcWoFIQp2RJUfzzKom7aS2W0s9Y7u3i1uIzYARaZyjWDVUZVQYQtKHW2bNzWDVfhJ6nVadUGSWRbaFOxySf1KUPzrljXo66vMM20za5/D6ZHS2pTqWG20ustrPE20azYOXNmuFhuwJMr9YbowFffdrj4aCO68toEX4U6AlptDSCuQ2hKEFffsUpJJF+AwK0WQCmyn3JDxTtK6d69FVaow3f9lliY20j0UENjgCLU2pgpPcqPHVZ9/EeEWeaiSqlHZ0mianukjSuvPua6Gt0/IdcdX+Jib4hpaDrjVvOLn6bQk/OV2W3fHgVmVlOuHdPiF+AAA1cVeQAAEQAAEWL5U0X0uo+QS+buCUKc2Gk9yo8dVn38ReyqdbKj5BL5u4J8IGxnNd1aY3h4KXWv6aHsK1SebBSe5UeOqz7+K9sstnGolaq0dnHo2pZEjSuuvua8aMezfkOuOr/ExbCYqxzjeyGteWI5nGGeWq6l3goBbbs/vBa+AAEdUCQAAEQAAEXmWnRfGkeJe5AtBp+bHSTbR1x3CD69VnuX//ADhWBaTqeR4l7kC5Sl9Kb8WjkkKjY/o4u0KzWB6KNtC1mrNgpPcqPHVZ9/EY8nsYm4UdCb7kJUksSlqVhSsTzXtCCFh+pWvS5YxnnP6pA3z4LZSyPTxN1e8AANblU0AABEAABF5VoKUh/oVh3FgeqdIbXgWtlWFdVhpXgW1o3EfiJHlmwUnuVHjqs+/iPrvToHnejfusMTaIbN82XZsT9w/xCk1rOtN3R4lRwy55udLZolYfQU/G1S6g4nHVqs4nEiG6ZYm1zVJVta5GWuK/xaZnE9j1d8z1PmT4qzHq2y9j3vwtaLf+w734QAATVSJAAARAAARZ/m8WTZm1+mRn9Jo1nMM9C+7Fc1oEhXTI7rbv5ifGpgpPcqPHVZ9/EIM0vslpPhTeYTBZsQs1luojaVsHYzs1u8VgNkshtPgvpkx+jNKkjSWmqVQkouUnCfzMmU63tfZGwAAZes6QAAEQAAEQBpzKllMegPysFy1K+TsaK2tN6ESKxVpNNJw7te4r0qPwdfWMdepZRpDcirRzWal0U6ZPWtKCJT9OlJdOQhTadZTiERppoMi3RN615Xgi3WA4IWRleQ5gi+CGloOuNW84ufptCZYhpaDrjVvOLn6bQk/OV2W3fHgVmVlOuHdPiF+AAA1cVeQAAEQAAEWL5VOtlR8gl83cE+ECA+VTrZUfIJfN3BPhA2M5rurTG8PBS61/TQ9hXIxVjnG9kNa8sRzOMLTjFWOcb2Q1ryxHM4wzy1XUu8FALbdn94LXwAAjqgSAAAiAAAi860nU8jxL3IFylL6U34tHJIU12k6nkeJe5AuUpfSm/Fo5JCo2P6OLtCs1guijbQu2vaEELD9StelyxO9e0IIWH6la9LljGec/qkDfPgtlLI9PE3V7wAA1uVTQAAEQAAEXXd6dA870b91hibRCErvToHnejfusMTaIbN82PZsT9w/xCk1rOtN3R4la8ziex6u+Z6nzJ8VZi0zOJ7Hq75nqfMnxVmPUtl7Hvfha0W/9h3vwgAAmykSAAAiAAAi2xml9ktJ8KbzCYLNiFZOaX2S0nwpvMJgs2IWay3URvFbB2M7NbvFcgABl6zpAAARAAARaht9k/KpS6hHxaNaY9npTDhleSJFPqlQnMHd2yJ5hOL6jPb2hwrNjHmFVOTjSU+uKg09vRYjKOy0240S21KuNaozb06frkktYyu1huEARdWDCQ0hDTaSQ22lKEJLcpSksKUl9xaw1/aPNvoct92TJpzLr7x3uOKU6RqPunhWRfgQ2UAItR6kyzu9TH9T3tRHpizDEOTUo0ZtLLDVQfJtpO4Sk0NCcAhpaDrjVvOLn6bQk/OV2W3fHgVmVlOuHdPiF+AAA1cVeQAAEQAAEWL5U0X0uo+QS+buCTqM06zu9TH9T3tRGLKp1sqPkEvm7gnwgbGc13VpjeHgpda/poewrUx5ptnd6mP6nvaivfLFZiPCrNWjRmksMNSyJttJrNKcUaMe1r3fdeYtjMVY5xvZDWvLEczjDPLVdS7wUAtt2f3gtfAACOqBIAACIAACLzLTovjSPEvcgWfU3NSs9o2//AGtjcJ+k93PGF/oQrDtJ1PI8S9yBcpS+lN+LRySFRsf0cXaFZrA9FG2havVmm2d3qY/qe9qIzZO4yW4UdCCuShOFJd6lKxPRe0IIWH6la9LljGec/qkDfPgtlLI9PE3V7wAA1uVTQAAEQAAEXlWio7UnoVh5CXGXqnSGnEHtKbXVYaVoP6hIws02zu9TH9T3tRoB3p0DzvRv3WGJtENm+bLs2J+4f4hSa1nWm7o8So1Zdc2CgMUOsPNUxlDjNKqLrakrfI0rREeURl84fbLuH9wgKLTM4nservmep8yfFWY9S2WcHvfha0W/9h3vwgAAmykSAAAiAAAiz/N4sfFn1+mRpjKX2VnMM21msi1oEhWuRGXd7onoWabZ3epj+p72ohJml9ktJ8KbzCYLNiFmst1EbStg7Gdmt3itf2QyAUenvlJhwWmH0pUlLqVOmokq2y2biiuP7hsIAGXrOkAABEAABEAABEAABF8GD1zITQ5Ty5EmjUqQ+5ruPP0+I86s/tuuMqWr/MzH0BwQDmi8/U02c4P0TiqD7ANTTZzg/ROKoPsAAcXW6lzUpqabOcH6JxVB9gGpps5wfonFUH2AAF1upKlNTTZzg/ROKoPsA1NNnOD9E4qg+wAAut1JUrgebTZzg/ROKoHsBsoh9AcgAIVxIYHXcgtCluqkSqLSZMhy43H5FOhvPLPurdcZUtX+ZmADq5cEArz9TJZrg9Q+KYHu4amSzXB6h8UwPdwAfS6NS5ujUmpks1weofFMD3cNTJZrg9Q+KYHu4AF0akujUmpks1weofFMD3cNTJZrg9Q+KYHu4AF0akujUvpZsNmuD1D4pge7jZCCHwB82rgAL9LhruRm6WeWpS1UKjKUozNSlUuEpSjPbM1GwZmZ90wAdiAc1yFw1NNnOD9E4qg+wDU02c4P0TiqD7AfQHF1upKlfNTTZzg/ROKoPsA1NNnOD9E4qg+wH0Aut1JUr5qabOcH6JxVB9gGpps5wfonFUH2A+gF1upKlfvTM3+gsONvM0SkMvNKStp1qnQ23G1pO9KkOIZSpCiPaNJkZDYBD6A5AAQrzapAQ8lTLqEuNOktpxtaSUhba2zxoWkyMlJUWsZGWuWsMEPNis1weofFMD3cfAHLgFwQE1MlmuD1D4pge7hqZLNcHqHxTA93ABzdGpc3RqTUyWa4PUPimB7uGpks1weofFMD3cAC6NSXRqTUyWa4PUPimB7uGpks1weofFMD3cAC6NSXRqXp2ayI0WC70RCpFMhvpSaSeiwIsd0iPbInWmkLuPuXjOTHIB1C6NQAAcrsgAAIgAAIv//Z)"
      ]
    },
    {
      "cell_type": "code",
      "metadata": {
        "id": "me7aMEIxHBmF",
        "colab_type": "code",
        "colab": {}
      },
      "source": [
        "num_qubits = 4\n",
        "theta = ParameterVector('theta', length=num_qubits)"
      ],
      "execution_count": null,
      "outputs": []
    },
    {
      "cell_type": "markdown",
      "metadata": {
        "id": "POZL7sbxmZlK",
        "colab_type": "text"
      },
      "source": [
        "All the odd unitary blocks can be decomposed as:\n"
      ]
    },
    {
      "cell_type": "code",
      "metadata": {
        "id": "qYdpgWaKmFn5",
        "colab_type": "code",
        "colab": {
          "base_uri": "https://localhost:8080/",
          "height": 231
        },
        "outputId": "5d229540-255e-4c45-d7d2-f0a20f3c7b2b"
      },
      "source": [
        "qc = QuantumCircuit(4)\n",
        "for i in range(num_qubits):\n",
        "    qc.rx(theta[i], i)\n",
        "qc.draw('mpl')"
      ],
      "execution_count": 29,
      "outputs": [
        {
          "output_type": "execute_result",
          "data": {
            "image/png": "[encoded data removed]",
            "text/plain": [
              "<Figure size 200.977x264.88 with 1 Axes>"
            ]
          },
          "metadata": {
            "tags": []
          },
          "execution_count": 29
        }
      ]
    },
    {
      "cell_type": "markdown",
      "metadata": {
        "id": "-mMnMEJHl6JW",
        "colab_type": "text"
      },
      "source": [
        "All the even unitary blocks can be decomposed as: \n"
      ]
    },
    {
      "cell_type": "code",
      "metadata": {
        "id": "eIdyS5Ikmc0J",
        "colab_type": "code",
        "colab": {
          "base_uri": "https://localhost:8080/",
          "height": 231
        },
        "outputId": "bc10a3f6-4538-4571-9f84-44d784aae6f0"
      },
      "source": [
        "qc = QuantumCircuit(4)\n",
        "for i in range(num_qubits):\n",
        "    qc.rz(theta[i], i)\n",
        "qc.cz(0, 1)\n",
        "qc.cz(0, 2)\n",
        "qc.cz(0, 3)\n",
        "qc.cz(1, 2)\n",
        "\n",
        "qc.draw('mpl')"
      ],
      "execution_count": 31,
      "outputs": [
        {
          "output_type": "execute_result",
          "data": {
            "image/png": "[encoded data removed]",
            "text/plain": [
              "<Figure size 441.777x264.88 with 1 Axes>"
            ]
          },
          "metadata": {
            "tags": []
          },
          "execution_count": 31
        }
      ]
    },
    {
      "cell_type": "markdown",
      "metadata": {
        "id": "2B1iGShAm5Iq",
        "colab_type": "text"
      },
      "source": [
        "$ \\left| \\phi \\right\\rangle $ is a randomly generated vector on 4 qubits.\n"
      ]
    },
    {
      "cell_type": "code",
      "metadata": {
        "id": "V9mqpKEvHBmP",
        "colab_type": "code",
        "colab": {
          "base_uri": "https://localhost:8080/",
          "height": 343
        },
        "outputId": "d27d6167-e894-4ded-fd89-5e8a717af299"
      },
      "source": [
        "phi_state = np.exp(1j*np.random.rand(num_qubits**2))\n",
        "array_to_latex(phi_state, pretext=\"|\\phi 〉 = \")"
      ],
      "execution_count": 58,
      "outputs": [
        {
          "output_type": "display_data",
          "data": {
            "text/latex": "$$\n|\\phi 〉 = \\begin{bmatrix}\n0.81265 + 0.58276i \\\\\n0.99987 + 0.01636i \\\\\n0.88951 + 0.45692i \\\\\n0.91258 + 0.40889i \\\\\n0.59175 + 0.80612i \\\\\n0.90799 + 0.41898i \\\\\n0.91628 + 0.40054i \\\\\n0.90401 + 0.42751i \\\\\n0.62919 + 0.77725i \\\\\n0.7035 + 0.7107i \\\\\n0.74576 + 0.66622i \\\\\n0.99845 + 0.05559i \\\\\n0.94703 + 0.32114i \\\\\n0.65982 + 0.75142i \\\\\n0.60506 + 0.79618i \\\\\n0.54688 + 0.83721i\n\\end{bmatrix}\n$$",
            "text/plain": [
              "<IPython.core.display.Math object>"
            ]
          },
          "metadata": {
            "tags": []
          }
        }
      ]
    },
    {
      "cell_type": "markdown",
      "metadata": {
        "id": "t6fUt2d7pl8p",
        "colab_type": "text"
      },
      "source": [
        "Let us define a Unitary Gateset which constitutes of an odd and an even unitary gate as shown below. A single gateset would act as a layer in our circuit."
      ]
    },
    {
      "cell_type": "code",
      "metadata": {
        "tags": [],
        "id": "xCAjjxhjHBma",
        "colab_type": "code",
        "colab": {
          "base_uri": "https://localhost:8080/",
          "height": 231
        },
        "outputId": "22ef39b3-baaa-4aaf-eb59-6077edd15204"
      },
      "source": [
        "U_reg = QuantumRegister(num_qubits)\n",
        "U_gateset = QuantumCircuit(U_reg, name='U_gateset')\n",
        "\n",
        "for i in range(num_qubits):\n",
        "    U_gateset.rx(theta[i], i)\n",
        "U_gateset.barrier()\n",
        "\n",
        "for i in range(num_qubits):\n",
        "    U_gateset.rz(theta[i], i)\n",
        "U_gateset.cz(0, 1)\n",
        "U_gateset.cz(0, 2)\n",
        "U_gateset.cz(0, 3)\n",
        "U_gateset.cz(1, 2)\n",
        "U_gateset.barrier()\n",
        "\n",
        "U_gateset.draw('mpl')"
      ],
      "execution_count": null,
      "outputs": [
        {
          "output_type": "execute_result",
          "data": {
            "image/png": "[encoded data removed]",
            "text/plain": [
              "<Figure size 635.358x264.88 with 1 Axes>"
            ]
          },
          "metadata": {
            "tags": []
          },
          "execution_count": 9
        }
      ]
    },
    {
      "cell_type": "markdown",
      "metadata": {
        "id": "k8CSoVRap35A",
        "colab_type": "text"
      },
      "source": [
        "Compiling a parametrized circuit prior to parameter binding can help in reducing the compilation time of the circuit."
      ]
    },
    {
      "cell_type": "code",
      "metadata": {
        "id": "OaEVdIXZVdTR",
        "colab_type": "code",
        "colab": {}
      },
      "source": [
        "statevector_backend = Aer.get_backend('statevector_simulator')\n",
        "transpiled_qc = transpile(U_gateset, backend=statevector_backend)"
      ],
      "execution_count": null,
      "outputs": []
    },
    {
      "cell_type": "markdown",
      "metadata": {
        "id": "W3j7CNw7qqLp",
        "colab_type": "text"
      },
      "source": [
        "We employ an evolutionary algorithm to optimize the paremeter values in the quantum circuit in order to minimize the distance between the final state $ \\left| \\psi(\\theta) \\right\\rangle $ and a randomly generated state $ \\left| \\phi \\right\\rangle $. "
      ]
    },
    {
      "cell_type": "markdown",
      "metadata": {
        "id": "i0t_AEuZruLj",
        "colab_type": "text"
      },
      "source": [
        "An evolutionary algorithm intially selects a random set of parameters as shown below."
      ]
    },
    {
      "cell_type": "code",
      "metadata": {
        "id": "911fZhBPHBnZ",
        "colab_type": "code",
        "colab": {
          "base_uri": "https://localhost:8080/",
          "height": 289
        },
        "outputId": "87514a51-4af8-43cd-9b20-666da94d9960"
      },
      "source": [
        "def init_pop(sol_per_pop, L):\n",
        "  \"\"\"Initalizes a random population of parameters\"\"\"\n",
        "  population = []\n",
        "  for i in range(sol_per_pop):\n",
        "    population.append(2*np.pi*np.random.rand(4*L))\n",
        "  return population\n",
        "\n",
        "pop0 = init_pop(8, 2)\n",
        "pop0"
      ],
      "execution_count": null,
      "outputs": [
        {
          "output_type": "execute_result",
          "data": {
            "text/plain": [
              "[array([0.85441479, 2.91687285, 5.17607191, 3.15014447, 2.93562011,\n",
              "        0.95203069, 4.45243956, 3.84725297]),\n",
              " array([0.64943943, 0.72646726, 2.07725365, 6.17145479, 3.34322777,\n",
              "        4.5609759 , 1.45695532, 5.20937418]),\n",
              " array([5.6752203 , 4.38728645, 4.1506588 , 3.68274813, 3.19147104,\n",
              "        1.27238481, 0.43296692, 0.4965026 ]),\n",
              " array([1.50795239, 3.97870036, 6.24322132, 5.85318065, 1.40703925,\n",
              "        1.77123763, 2.7385268 , 1.53891935]),\n",
              " array([5.62654566, 3.42145072, 0.2656722 , 3.43174723, 5.65061174,\n",
              "        1.17010675, 4.88129745, 3.5532673 ]),\n",
              " array([0.52795316, 0.81194667, 6.25962102, 4.89691905, 1.96256235,\n",
              "        3.24273847, 4.33464594, 4.77592117]),\n",
              " array([1.80866742, 2.81696801, 2.78939554, 4.19824644, 2.51225674,\n",
              "        3.35639878, 1.69049218, 5.53032165]),\n",
              " array([1.28713727, 3.98279788, 0.3576358 , 4.45585485, 3.90527631,\n",
              "        0.42383009, 3.7897873 , 1.54452234])]"
            ]
          },
          "metadata": {
            "tags": []
          },
          "execution_count": 11
        }
      ]
    },
    {
      "cell_type": "markdown",
      "metadata": {
        "id": "SUYUR0xvuw3P",
        "colab_type": "text"
      },
      "source": [
        "The below function is used to generate a quantum circuit of $L$ layers and bind the parameters provided in the argument to those in the circuit.\n",
        "\n"
      ]
    },
    {
      "cell_type": "code",
      "metadata": {
        "id": "JEi-isEvVdTt",
        "colab_type": "code",
        "colab": {
          "base_uri": "https://localhost:8080/",
          "height": 231
        },
        "outputId": "0cfc8473-32c4-43fe-911b-c8d02ea34683"
      },
      "source": [
        "def generate_qc(L, params):\n",
        "  \"\"\" Generates a Quantum Circuit with L-layers and binds the parameters with those in the argument\"\"\"\n",
        "    params_split = np.split(params, L)\n",
        "    u_layers = [transpiled_qc.bind_parameters({theta: param}) for param in params_split]\n",
        "\n",
        "    qr = QuantumRegister(num_qubits)\n",
        "    qc = QuantumCircuit(qr)\n",
        "\n",
        "    for i in range(L):\n",
        "        qc.append(u_layers[i].to_instruction(), qr)\n",
        "\n",
        "    return qc\n",
        "\n",
        "qc = generate_qc(2, pop0[0])\n",
        "\n",
        "qc.decompose().draw('mpl')"
      ],
      "execution_count": null,
      "outputs": [
        {
          "output_type": "execute_result",
          "data": {
            "image/png": "[encoded data removed]",
            "text/plain": [
              "<Figure size 1237.65x264.88 with 1 Axes>"
            ]
          },
          "metadata": {
            "tags": []
          },
          "execution_count": 12
        }
      ]
    },
    {
      "cell_type": "markdown",
      "metadata": {
        "id": "7w7QwrkYvSYE",
        "colab_type": "text"
      },
      "source": [
        "The fitness value is taken to be the negative of minimum distance ($\\epsilon$), which is given by: $$\\epsilon = min_\\theta || \\left| \\psi(\\theta) \\right\\rangle - \\left| \\phi \\right\\rangle ||$$  Fitness values of all the parameters are found and a set of those which have the highest values ($i.e.$ minimum $\\epsilon$ value) are chosen to become the parents for the next generation. "
      ]
    },
    {
      "cell_type": "code",
      "metadata": {
        "id": "fv5tqnHrHBnd",
        "colab_type": "code",
        "tags": [],
        "colab": {
          "base_uri": "https://localhost:8080/",
          "height": 153
        },
        "outputId": "cf700b1e-1fac-4863-c477-23ca9cae107f"
      },
      "source": [
        "def cal_fitness(population, L):\n",
        "  \"\"\" Calculates the fitness of the population \"\"\"\n",
        "  fitness = []\n",
        "\n",
        "  for params in population:\n",
        "    qc = generate_qc(L, params)\n",
        "    final_state = execute(qc, \n",
        "                          statevector_backend, \n",
        "                          backend_options={\"method\": \"statevector_gpu\"}).result().get_statevector()\n",
        "    fit = np.sum(np.abs(final_state-phi_state)**2)\n",
        "    fitness.append(-fit)      \n",
        "    \n",
        "  return fitness\n",
        "\n",
        "fit0 = cal_fitness(pop0, L)\n",
        "fit0"
      ],
      "execution_count": null,
      "outputs": [
        {
          "output_type": "execute_result",
          "data": {
            "text/plain": [
              "[-14.850305296331324,\n",
              " -16.17747495977596,\n",
              " -17.206373473386996,\n",
              " -17.988750822035527,\n",
              " -19.47880095756584,\n",
              " -17.075256487474505,\n",
              " -18.394708435746836,\n",
              " -16.214468443304554]"
            ]
          },
          "metadata": {
            "tags": []
          },
          "execution_count": 15
        }
      ]
    },
    {
      "cell_type": "code",
      "metadata": {
        "id": "0KxM6_PKHBnn",
        "colab_type": "code",
        "colab": {
          "base_uri": "https://localhost:8080/",
          "height": 153
        },
        "outputId": "62f9173b-1966-4404-9640-b0a0a632372a"
      },
      "source": [
        "def select_mating_pool(population, fitness, num_parents):\n",
        "    \"\"\"Selects the best individuals in the current generation as parents\"\"\"\n",
        "    parents = []\n",
        "    for parent_num in range(num_parents):\n",
        "        max_fitness_idx = fitness.index(max(fitness))\n",
        "        parents.append(population[max_fitness_idx])\n",
        "        fitness[max_fitness_idx] = -999\n",
        "    return parents\n",
        "\n",
        "mpool = select_mating_pool(pop0, fit0, sol_per_pop//2)\n",
        "mpool"
      ],
      "execution_count": null,
      "outputs": [
        {
          "output_type": "execute_result",
          "data": {
            "text/plain": [
              "[array([0.85441479, 2.91687285, 5.17607191, 3.15014447, 2.93562011,\n",
              "        0.95203069, 4.45243956, 3.84725297]),\n",
              " array([0.64943943, 0.72646726, 2.07725365, 6.17145479, 3.34322777,\n",
              "        4.5609759 , 1.45695532, 5.20937418]),\n",
              " array([1.28713727, 3.98279788, 0.3576358 , 4.45585485, 3.90527631,\n",
              "        0.42383009, 3.7897873 , 1.54452234]),\n",
              " array([0.52795316, 0.81194667, 6.25962102, 4.89691905, 1.96256235,\n",
              "        3.24273847, 4.33464594, 4.77592117])]"
            ]
          },
          "metadata": {
            "tags": []
          },
          "execution_count": 16
        }
      ]
    },
    {
      "cell_type": "markdown",
      "metadata": {
        "id": "XMXKVC6xw_OD",
        "colab_type": "text"
      },
      "source": [
        "The selected parents generate offsprings by crossover and mutation. Crossover involves mixing of genes between two parents and mutation involves mutating a random gene in the generated offspring."
      ]
    },
    {
      "cell_type": "code",
      "metadata": {
        "id": "eWts4OyrHBnp",
        "colab_type": "code",
        "colab": {
          "base_uri": "https://localhost:8080/",
          "height": 153
        },
        "outputId": "5e824545-d4c4-423a-8447-84cf751a9ccd"
      },
      "source": [
        "def crossover(parents, offspring_size):\n",
        "  \"\"\"Generates offsprings by crossover between parents\"\"\"\n",
        "    offsprings = []\n",
        "    # The point at which crossover takes place between two parents\n",
        "    crossover_point = num_qubits//2\n",
        "\n",
        "    for i in range(sol_per_pop//2):\n",
        "        # Index of the first parent to mate\n",
        "        parent1_idx = i%len(parents)\n",
        "        # Index of the second parent to mate\n",
        "        parent2_idx = (i+1)%len(parents)\n",
        "        offspring = np.concatenate((parents[parent1_idx][:crossover_point],parents[parent2_idx][crossover_point:]), axis=0)\n",
        "        offsprings.append(offspring)\n",
        "\n",
        "    return offsprings\n",
        "\n",
        "ofc = crossover(mpool, 2)\n",
        "ofc"
      ],
      "execution_count": null,
      "outputs": [
        {
          "output_type": "execute_result",
          "data": {
            "text/plain": [
              "[array([0.85441479, 2.91687285, 2.07725365, 6.17145479, 3.34322777,\n",
              "        4.5609759 , 1.45695532, 5.20937418]),\n",
              " array([0.64943943, 0.72646726, 0.3576358 , 4.45585485, 3.90527631,\n",
              "        0.42383009, 3.7897873 , 1.54452234]),\n",
              " array([1.28713727, 3.98279788, 6.25962102, 4.89691905, 1.96256235,\n",
              "        3.24273847, 4.33464594, 4.77592117]),\n",
              " array([0.52795316, 0.81194667, 5.17607191, 3.15014447, 2.93562011,\n",
              "        0.95203069, 4.45243956, 3.84725297])]"
            ]
          },
          "metadata": {
            "tags": []
          },
          "execution_count": 17
        }
      ]
    },
    {
      "cell_type": "code",
      "metadata": {
        "id": "PpFbMfwQHBns",
        "colab_type": "code",
        "colab": {
          "base_uri": "https://localhost:8080/",
          "height": 153
        },
        "outputId": "c87b1fd9-e184-4396-a4c4-31787c20531a"
      },
      "source": [
        "def mutation(offspring_crossover):\n",
        "    \"\"\"Creates mutation at a random gene in the offsprings\"\"\"\n",
        "    for idx in range(len(offspring_crossover)):\n",
        "        # The random value to be added to the gene.\n",
        "        random_idx = np.random.randint(num_qubits)\n",
        "        random_value =  2*np.pi*np.random.rand(1)\n",
        "        offspring_crossover[idx][random_idx] = random_value\n",
        "    return offspring_crossover\n",
        "\n",
        "ofm = mutation(ofc)\n",
        "ofm"
      ],
      "execution_count": null,
      "outputs": [
        {
          "output_type": "execute_result",
          "data": {
            "text/plain": [
              "[array([0.85441479, 1.16009666, 2.07725365, 6.17145479, 3.34322777,\n",
              "        4.5609759 , 1.45695532, 5.20937418]),\n",
              " array([0.64943943, 0.72646726, 0.3576358 , 2.3671659 , 3.90527631,\n",
              "        0.42383009, 3.7897873 , 1.54452234]),\n",
              " array([1.28713727, 1.78482693, 6.25962102, 4.89691905, 1.96256235,\n",
              "        3.24273847, 4.33464594, 4.77592117]),\n",
              " array([1.58647135, 0.81194667, 5.17607191, 3.15014447, 2.93562011,\n",
              "        0.95203069, 4.45243956, 3.84725297])]"
            ]
          },
          "metadata": {
            "tags": []
          },
          "execution_count": 18
        }
      ]
    },
    {
      "cell_type": "markdown",
      "metadata": {
        "id": "FVueJsu-yIae",
        "colab_type": "text"
      },
      "source": [
        "The next generation consists of parents and offsprings from the previous generation. This process repeats for a number of generations usually after which there is not much difference in the fitness of individuals."
      ]
    },
    {
      "cell_type": "code",
      "metadata": {
        "tags": [],
        "id": "_V2NpaxcHBnv",
        "colab_type": "code",
        "colab": {}
      },
      "source": [
        "L = 2\n",
        "sol_per_pop = 20\n",
        "num_generations = 50\n",
        "\n",
        "def genetic_algorithm(sol_per_pop, num_generations, L, verbose = True):\n",
        "  \"\"\"Implements the genetic algorithm\"\"\"\n",
        "    fitness_g = []\n",
        "    new_population = init_pop(sol_per_pop, L)\n",
        "    num_parents_mating = sol_per_pop // 2\n",
        "\n",
        "    best_fitness = -99\n",
        "\n",
        "    for generation in range(num_generations):\n",
        "    \n",
        "    # Measuring the fitness of each chromosome in the population.\n",
        "        fitness = cal_fitness(new_population, L)\n",
        "\n",
        "    # Selecting the best parents in the population for mating.\n",
        "        parents = select_mating_pool(new_population, fitness, num_parents_mating)\n",
        "\n",
        "    # Generating next generation using crossover.\n",
        "        offspring_crossover = crossover(parents, offspring_size=sol_per_pop-len(parents))\n",
        "\n",
        "    # Adding some variations to the offsrping using mutation.\n",
        "        offspring_mutation = mutation(offspring_crossover)\n",
        "\n",
        "    # Creating the new population based on the parents and offspring.\n",
        "        new_population = parents + offspring_mutation\n",
        "\n",
        "        fit_gen = np.max(fitness)\n",
        "\n",
        "    # Getting the best solution \n",
        "        if fit_gen > best_fitness:\n",
        "            best_fitness = fit_gen\n",
        "            best_fitness_idx = np.where(fitness == fit_gen)[0][0]\n",
        "            best_sol = new_population[best_fitness_idx]   \n",
        "\n",
        "        if verbose == True:\n",
        "            fitness_g.append(fit_gen)\n",
        "    \n",
        "    if verbose == True:\n",
        "        return best_fitness, best_sol, fitness_g\n",
        "    else:\n",
        "        return best_fitness, best_sol\n",
        "\n",
        "best_fitness, best_sol, fitness_g = genetic_algorithm(sol_per_pop, num_generations, L)"
      ],
      "execution_count": null,
      "outputs": []
    },
    {
      "cell_type": "code",
      "metadata": {
        "tags": [],
        "id": "xl6VjIz6HBny",
        "colab_type": "code",
        "colab": {
          "base_uri": "https://localhost:8080/",
          "height": 68
        },
        "outputId": "3b57071c-3d87-4435-e23c-315a3973bdfd"
      },
      "source": [
        "print('Fitness :', best_fitness)\n",
        "print('Parameters :', best_sol)"
      ],
      "execution_count": null,
      "outputs": [
        {
          "output_type": "stream",
          "text": [
            "Fitness : -10.734620703206373\n",
            "Parameters : [0.89763791 4.44366824 2.09860692 4.47360075 0.21737684 3.17692573\n",
            " 4.03385876 0.48021399]\n"
          ],
          "name": "stdout"
        }
      ]
    },
    {
      "cell_type": "code",
      "metadata": {
        "id": "pQxFk2piHBn1",
        "colab_type": "code",
        "colab": {
          "base_uri": "https://localhost:8080/",
          "height": 296
        },
        "outputId": "87526796-c04a-4c27-a9c8-6585970b8718"
      },
      "source": [
        "import matplotlib.pyplot as plt\n",
        "plt.xlabel(\"Generation\")\n",
        "plt.ylabel(\"Best fitness in the generation\")\n",
        "plt.plot(fitness_g)"
      ],
      "execution_count": null,
      "outputs": [
        {
          "output_type": "execute_result",
          "data": {
            "text/plain": [
              "[<matplotlib.lines.Line2D at 0x7f85549025f8>]"
            ]
          },
          "metadata": {
            "tags": []
          },
          "execution_count": 21
        },
        {
          "output_type": "display_data",
          "data": {
            "image/png": "[encoded data removed]",
            "text/plain": [
              "<Figure size 432x288 with 1 Axes>"
            ]
          },
          "metadata": {
            "tags": [],
            "needs_background": "light"
          }
        }
      ]
    },
    {
      "cell_type": "markdown",
      "metadata": {
        "id": "hL6dKAiB0xu8",
        "colab_type": "text"
      },
      "source": [
        "#### Plotting the number of layers ($L$) against the minimum distance ($\\epsilon$)"
      ]
    },
    {
      "cell_type": "code",
      "metadata": {
        "tags": [],
        "id": "Xl9vkuEtHBn7",
        "colab_type": "code",
        "colab": {}
      },
      "source": [
        "# %%time\n",
        "sol_per_pop = 20\n",
        "num_generations = 300\n",
        "L = 10\n",
        "\n",
        "y = []\n",
        "for l in range(1,L):\n",
        "    qr = QuantumRegister(4, 'q')\n",
        "    qc = QuantumCircuit(qr)\n",
        "\n",
        "    best_fitness, best_sol = genetic_algorithm(sol_per_pop, num_generations, L, verbose = False)\n",
        "    y.append(best_fitness)    \n",
        "    # print(\"Executed Layer: \"+l)"
      ],
      "execution_count": null,
      "outputs": []
    },
    {
      "cell_type": "code",
      "metadata": {
        "id": "V80P7JZUHBn9",
        "colab_type": "code",
        "colab": {
          "base_uri": "https://localhost:8080/",
          "height": 296
        },
        "outputId": "8829ac87-2630-45c9-f586-92982525d4c6"
      },
      "source": [
        "plt.xlabel(\"# of Layers (L)\")\n",
        "plt.ylabel(\"Minimum Distance\")\n",
        "plt.plot(list(range(1,L)), -1*np.array(y), linestyle='dashed', marker='o', markersize=9) "
      ],
      "execution_count": 27,
      "outputs": [
        {
          "output_type": "execute_result",
          "data": {
            "text/plain": [
              "[<matplotlib.lines.Line2D at 0x7f8554477d68>]"
            ]
          },
          "metadata": {
            "tags": []
          },
          "execution_count": 27
        },
        {
          "output_type": "display_data",
          "data": {
            "image/png": "[encoded data removed]",
            "text/plain": [
              "<Figure size 432x288 with 1 Axes>"
            ]
          },
          "metadata": {
            "tags": [],
            "needs_background": "light"
          }
        }
      ]
    }
  ]
}